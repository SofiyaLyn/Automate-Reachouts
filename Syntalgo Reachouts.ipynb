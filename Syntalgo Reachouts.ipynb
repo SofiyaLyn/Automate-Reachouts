{
 "cells": [
  {
   "cell_type": "code",
   "execution_count": 10,
   "id": "a9171640",
   "metadata": {},
   "outputs": [],
   "source": [
    "import pandas as pd\n",
    "from email.mime.text import MIMEText\n",
    "from smtplib import SMTP\n",
    "import win32com.client as win32\n",
    "import os"
   ]
  },
  {
   "cell_type": "code",
   "execution_count": 11,
   "id": "fc5c6b10",
   "metadata": {},
   "outputs": [],
   "source": [
    "def get_outlook_signature():\n",
    "    # Get the path to the default signature folder\n",
    "    appdata_path = os.getenv('APPDATA')\n",
    "    signature_path = os.path.join(appdata_path, 'Microsoft', 'Signatures')\n",
    "    \n",
    "    # Check if the signature folder exists\n",
    "    if not os.path.exists(signature_path):\n",
    "        return \"\"\n",
    "    \n",
    "    # Get the list of signature files\n",
    "    signature_files = [f for f in os.listdir(signature_path) if f.endswith('.htm')]\n",
    "    \n",
    "    # If there are no signature files, return an empty string\n",
    "    if not signature_files:\n",
    "        return \"\"\n",
    "    \n",
    "    # Read the first signature file (assuming it's the default signature)\n",
    "    try:\n",
    "        with open(os.path.join(signature_path, signature_files[0]), 'r', encoding='utf-8') as f:\n",
    "            signature = f.read()\n",
    "    except UnicodeDecodeError:\n",
    "        # Fallback to a different encoding if utf-8 fails\n",
    "        with open(os.path.join(signature_path, signature_files[0]), 'r', encoding='latin-1') as f:\n",
    "            signature = f.read()\n",
    "    \n",
    "    return signature"
   ]
  },
  {
   "cell_type": "code",
   "execution_count": 12,
   "id": "4fd543a8",
   "metadata": {},
   "outputs": [],
   "source": [
    "def send_email(subject, body, to, cc=None, attachment_path=None):\n",
    "    try:\n",
    "        outlook = win32.Dispatch('outlook.application')\n",
    "        mail = outlook.CreateItem(0)\n",
    "        \n",
    "        mail.Subject = subject\n",
    "        mail.HTMLBody = body\n",
    "        mail.To = to\n",
    "        if cc:\n",
    "            mail.CC = cc\n",
    "        \n",
    "        if attachment_path:\n",
    "            mail.Attachments.Add(attachment_path)\n",
    "        \n",
    "        mail.Send()\n",
    "        print(f\"Email sent to {to}\")\n",
    "\n",
    "    except Exception as e:\n",
    "        print(f\"Failed to send email to {to}: {e}\")"
   ]
  },
  {
   "cell_type": "code",
   "execution_count": 13,
   "id": "b8e9977c",
   "metadata": {},
   "outputs": [],
   "source": [
    "if __name__ == \"__main__\":\n",
    "    # Define the email details\n",
    "    subject = \"Syntalgo: Revolution in Real-Time Interpretation\"\n",
    "    \n",
    "    # Read the Excel file\n",
    "    file_path = r\"C:\\Users\\SofiyaLyn\\Desktop\\try.xlsx\"\n",
    "    df = pd.read_excel(file_path)\n",
    "    \n",
    "    # Define the email body template\n",
    "    body_template = \"\"\"\n",
    "    <p>Dear {{FirstName}},</p>\n",
    "\n",
    "    <p>I am thrilled to introduce you to <strong>Syntalgo (DE)</strong>, a game-changing <strong>real-time interpretation technology</strong>.</p> \n",
    "\n",
    "    <p>Built by the founders of a successful Qonda platform, which served over 150 clients with human interpretation, <strong>Syntalgo focuses solely on AI-driven real-time language solutions</strong>, delivering\n",
    "    <strong> ultra-fast interpretation</strong> and <strong>live subtitling</strong> in <strong>120+ languages</strong>. Developed specificallty for live events, the<strong> scalable architectire</strong> of Syntalgo\n",
    "    is primed for <strong>growth into high-value communication markets</strong>.</p>\n",
    "\n",
    "    <p> We are supporting Syntalgo in their <strong>EUR 2m Seed round</strong>to scale the company, and we are inviting visionary investors to join the future of global communication.</p>\n",
    "    \n",
    "    <p><strong>Syntalgo Investment Highlights:</strong></p>\n",
    "    <p> </p>\n",
    "\n",
    "     <ul>\n",
    "        <li><strong>Custom AI Models: </strong>Syntalgo’s language models can be tailored to <strong>individual companies, industries, and use cases</strong></li>\n",
    "        <li><strong>On-Premises & SaaS Flexibility: </strong>A rare dual approach offering clients secure, which ensures compliance with <strong>GDPR, TISAX, BSI</strong> and other frameworks</li>\n",
    "        <li><strong>Large Growing Markett:</strong> Language services market valued at <strong>EUR 160b</strong>, primed for disruption with rising demand for faster, scalable, and cost-efficient solutions\n",
    "        <li><strong>Seamless User Experience:</strong> Available in <strong>120+ languages</strong>, with live interpretation or subtitles accessible via smartphone or display – fully integrated\n",
    "        with <strong>Zoom, Microsoft Teams, Google Meet</strong>, and others</li>\n",
    "        <li><strong>Strategic Partnerships:</strong> In 2024, Syntalgo partnered with <strong>JM Connected </strong>in South Korea for exclusive distribution and marketing </li>\n",
    "    </ul>\n",
    "\n",
    "    <p>We would love to invite you to explore this opportunity. You can find Syntalgo’s pitch deck attached below.</p>\n",
    "\n",
    "    <p>We would love to discuss this unique opportunity and explore potential collaboration.<br>\n",
    "    Let us know if you would like to arrange a conversation with the founding team to discuss how Syntalgo is set to revolutionise global communication.</p>\n",
    "\n",
    "   \"\"\"\n",
    "    # Get the Outlook signature\n",
    "    signature = get_outlook_signature()\n",
    "\n",
    "    attachment_path = r\"C:\\Users\\SofiyaLyn\\Downloads\\Syntalgo_Pitch_Deck_2M.pdf\"\n",
    "\n",
    "    \n",
    "    # Append the signature to the body\n",
    "    body = body_template + signature\n",
    "                                                                                                                                                                                                          "
   ]
  },
  {
   "cell_type": "code",
   "execution_count": 16,
   "id": "c99be392",
   "metadata": {},
   "outputs": [
    {
     "name": "stdout",
     "output_type": "stream",
     "text": [
      "Processing row 0: Sofiya, lrsophia01@gmail.com\n",
      "Email sent to lrsophia01@gmail.com\n"
     ]
    }
   ],
   "source": [
    "for index, row in df.iterrows():\n",
    "        first_name = row['Name'].split()[0]\n",
    "        email = row['Email']\n",
    "        \n",
    "        print(f\"Processing row {index}: {first_name}, {email}\")\n",
    "        \n",
    "        body = body_template.replace(\"{{FirstName}}\", first_name)\n",
    "        body += signature\n",
    "        \n",
    "        send_email(subject, body, email, attachment_path=attachment_path)"
   ]
  }
 ],
 "metadata": {
  "kernelspec": {
   "display_name": "Python 3",
   "language": "python",
   "name": "python3"
  },
  "language_info": {
   "codemirror_mode": {
    "name": "ipython",
    "version": 3
   },
   "file_extension": ".py",
   "mimetype": "text/x-python",
   "name": "python",
   "nbconvert_exporter": "python",
   "pygments_lexer": "ipython3",
   "version": "3.11.5"
  }
 },
 "nbformat": 4,
 "nbformat_minor": 5
}
