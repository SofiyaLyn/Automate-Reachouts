{
 "cells": [
  {
   "cell_type": "code",
   "execution_count": 1,
   "metadata": {},
   "outputs": [],
   "source": [
    "import pandas as pd\n",
    "from email.mime.text import MIMEText\n",
    "from smtplib import SMTP\n",
    "import win32com.client as win32\n",
    "import os"
   ]
  },
  {
   "cell_type": "code",
   "execution_count": 2,
   "metadata": {},
   "outputs": [],
   "source": [
    "def get_outlook_signature():\n",
    "    # Get the path to the default signature folder\n",
    "    appdata_path = os.getenv('APPDATA')\n",
    "    signature_path = os.path.join(appdata_path, 'Microsoft', 'Signatures')\n",
    "    \n",
    "    # Check if the signature folder exists\n",
    "    if not os.path.exists(signature_path):\n",
    "        return \"\"\n",
    "    \n",
    "    # Get the list of signature files\n",
    "    signature_files = [f for f in os.listdir(signature_path) if f.endswith('.htm')]\n",
    "    \n",
    "    # If there are no signature files, return an empty string\n",
    "    if not signature_files:\n",
    "        return \"\"\n",
    "    \n",
    "    # Read the first signature file (assuming it's the default signature)\n",
    "    try:\n",
    "        with open(os.path.join(signature_path, signature_files[0]), 'r', encoding='utf-8') as f:\n",
    "            signature = f.read()\n",
    "    except UnicodeDecodeError:\n",
    "        # Fallback to a different encoding if utf-8 fails\n",
    "        with open(os.path.join(signature_path, signature_files[0]), 'r', encoding='latin-1') as f:\n",
    "            signature = f.read()\n",
    "    \n",
    "    return signature"
   ]
  },
  {
   "cell_type": "code",
   "execution_count": 3,
   "metadata": {},
   "outputs": [],
   "source": [
    "def send_email(subject, body, to, cc=None, attachment_path=None):\n",
    "    try:\n",
    "        outlook = win32.Dispatch('outlook.application')\n",
    "        mail = outlook.CreateItem(0)\n",
    "        \n",
    "        mail.Subject = subject\n",
    "        mail.HTMLBody = body\n",
    "        mail.To = to\n",
    "        if cc:\n",
    "            mail.CC = cc\n",
    "        \n",
    "        if attachment_path:\n",
    "            mail.Attachments.Add(attachment_path)\n",
    "        \n",
    "        mail.Send()\n",
    "        print(f\"Email sent to {to}\")\n",
    "\n",
    "    except Exception as e:\n",
    "        print(f\"Failed to send email to {to}: {e}\")"
   ]
  },
  {
   "cell_type": "code",
   "execution_count": 9,
   "metadata": {},
   "outputs": [],
   "source": [
    "if __name__ == \"__main__\":\n",
    "    # Define the email details\n",
    "    subject = \"Monkee: Unique Investment Opportunity\"\n",
    "    \n",
    "    # Read the Excel file\n",
    "    file_path = r\"C:\\Users\\SofiyaLyn\\Desktop\\try.xlsx\"\n",
    "    df = pd.read_excel(file_path)\n",
    "    \n",
    "    # Define the email body template\n",
    "    body_template = \"\"\"\n",
    "    <p>Dear {{FirstName}},</p>\n",
    "\n",
    "    <p>You might already know our portfolio company Monkee from earlier - but the team has made significant progress and is now entering a strategically exciting phase. After proving that their Save Now Buy Later (SNBL) model works in B2C-\n",
    "    with over EUR 140k users, EUR 230M+ in saving goals, and EUR 10M+ GMV across 600 retail partners - they are now expanding into <strong>embedded SNBL solutions</strong>. Similar to how Klarna scaled BNPL via retail integrations\n",
    "    Monkee is now working on directly integrating at the <strong>POS and product pages</strong> of its retail partners, unlocking a new way to convert early-intent, credit-averse consumers. This segment - roughly 1 in 3 - wants\n",
    "    to buy, but avoids credit, and has been invisible to commerce until now. Monkee is building the infrastructure to finally reach them </p>\n",
    "\n",
    "    <p>You will find Monkee's <strong> deck</strong> here:  https://docsend.com/view/h47pp46q6cmph5iw</p>\n",
    "    \n",
    "    <p>The short desciption about Monkee:</p>\n",
    "    <p> </p>\n",
    "    Monkee is building the infrastructure for the next generation of commerce — helping brands and retailers reach the <strong>1 in 3 consumers who want to buy, but don't have the money now and refuse to use credit.</strong>\n",
    "    These intentional, credit-averse consumers are invisible to BNPL, loyalty programs, and most commerce tools — yet they represent a massive untapped opportunity.</p>\n",
    "    <br></br>\n",
    "    <p><strong>BNPL had a 20-year head start.</strong> </p>\n",
    "    <p><strong>SNBL (Save Now Buy Later) is just beginning - and Monkee believes it can become just as large.</strong></p>\n",
    "    <br></br>\n",
    "    Monkee turns intent into action: users save toward real purchase goals, and convert through its retail partners.</p>\n",
    "    <p>For consumers, it is control and purpose without debt.<br>For commerce, it is a new demand, longer loyalty, and conversion without credit risk.</p>\n",
    "    <p><strong>Traction to date:</strong></p>\n",
    "    <p> </p>\n",
    "\n",
    "     <ul>\n",
    "        <li><strong>140K+ users</strong> with <strong>EUR 230M+ in savings goals</strong></li>\n",
    "        <li><strong>EUR 10M+ GMV</strong> through 600+ partner retailers</li>\n",
    "        <li>Monetization across saving (interest share) and spending (commissions)</li>\n",
    "        <li>Built lean - with <strong> less than EUR 2.5M raised to date</strong></li>\n",
    "    </ul>\n",
    "\n",
    "    <p>Having validated this user behaviour through Monkee's B2C app, the company is scaling into <strong>embedded SNBL</strong> - integrating Monkee directly at POS and product pages.\n",
    "    This unlocks a new commerce channel for early-intent buyers who were never reachable before.</p>\n",
    "    \n",
    "    <p>We would love to invite you to explore this unique and well-timed opportunity.<br>\n",
    "    If you would like to set up a meeting with the founding team of Monkee to discuss it, please let me know.</p>\n",
    "\n",
    "   \"\"\"\n",
    "    # Get the Outlook signature\n",
    "    signature = get_outlook_signature()\n",
    "    \n",
    "    # Append the signature to the body\n",
    "    body = body_template + signature\n",
    "                                                                                                                                                                                                          "
   ]
  },
  {
   "cell_type": "code",
   "execution_count": 10,
   "metadata": {},
   "outputs": [
    {
     "name": "stdout",
     "output_type": "stream",
     "text": [
      "Processing row 0: Denis, denis@venionaire.com\n",
      "Email sent to denis@venionaire.com\n"
     ]
    }
   ],
   "source": [
    "for index, row in df.iterrows():\n",
    "        first_name = row['Name'].split()[0]\n",
    "        email = row['Email']\n",
    "        \n",
    "        print(f\"Processing row {index}: {first_name}, {email}\")\n",
    "        \n",
    "        body = body_template.replace(\"{{FirstName}}\", first_name)\n",
    "        body += signature\n",
    "        \n",
    "        send_email(subject, body, email)"
   ]
  },
  {
   "cell_type": "code",
   "execution_count": null,
   "metadata": {},
   "outputs": [],
   "source": []
  }
 ],
 "metadata": {
  "kernelspec": {
   "display_name": "base",
   "language": "python",
   "name": "python3"
  },
  "language_info": {
   "codemirror_mode": {
    "name": "ipython",
    "version": 3
   },
   "file_extension": ".py",
   "mimetype": "text/x-python",
   "name": "python",
   "nbconvert_exporter": "python",
   "pygments_lexer": "ipython3",
   "version": "3.12.4"
  }
 },
 "nbformat": 4,
 "nbformat_minor": 2
}
